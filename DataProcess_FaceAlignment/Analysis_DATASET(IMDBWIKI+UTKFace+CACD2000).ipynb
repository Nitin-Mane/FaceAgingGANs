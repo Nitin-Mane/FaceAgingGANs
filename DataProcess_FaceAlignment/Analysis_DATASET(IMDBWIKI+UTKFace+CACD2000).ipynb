{
  "nbformat": 4,
  "nbformat_minor": 0,
  "metadata": {
    "colab": {
      "name": "Analysis_DATASET(IMDBWIKI+UTKFace+CACD2000).ipynb",
      "version": "0.3.2",
      "provenance": [],
      "collapsed_sections": [],
      "toc_visible": true,
      "machine_shape": "hm"
    },
    "kernelspec": {
      "name": "python3",
      "display_name": "Python 3"
    },
    "accelerator": "GPU"
  },
  "cells": [
    {
      "cell_type": "markdown",
      "metadata": {
        "id": "LAZrCTjTD9eE",
        "colab_type": "text"
      },
      "source": [
        "## Data procesing\n",
        "\n",
        "\n",
        "check age and gender distribution and the amount of images.\n",
        "\n"
      ]
    },
    {
      "cell_type": "markdown",
      "metadata": {
        "id": "vN9zI0eKA-32",
        "colab_type": "text"
      },
      "source": [
        "###wiki + IMDB 22,138 + 93,411 = 115,549"
      ]
    },
    {
      "cell_type": "code",
      "metadata": {
        "id": "DFi0uF6mJ1Zt",
        "colab_type": "code",
        "colab": {}
      },
      "source": [
        "cp ./drive/'My Drive'/Test_DATA/imdb_crop.tar ./"
      ],
      "execution_count": 0,
      "outputs": []
    },
    {
      "cell_type": "code",
      "metadata": {
        "id": "JgimaZgnKCfb",
        "colab_type": "code",
        "colab": {}
      },
      "source": [
        "!tar -xf imdb_crop.tar"
      ],
      "execution_count": 0,
      "outputs": []
    },
    {
      "cell_type": "code",
      "metadata": {
        "id": "82Z98xLiH-X7",
        "colab_type": "code",
        "outputId": "99f19224-f673-48eb-ebdf-b12a2701cf4e",
        "colab": {
          "base_uri": "https://localhost:8080/",
          "height": 34
        }
      },
      "source": [
        "import scipy.io\n",
        "import os\n",
        "import pandas as pd\n",
        "import numpy as np\n",
        "import cv2\n",
        "from datetime import datetime\n",
        "\n",
        "from numpy import asarray\n",
        "from PIL import Image\n",
        "\n",
        "\n",
        "mat = scipy.io.loadmat('./imdb_crop/imdb.mat')\n",
        "\n",
        "instances = mat['imdb'][0][0][0].shape[1]\n",
        "columns = ['dob', 'photo_taken', 'full_path', 'gender', \"name\", \"face_location\", \"face_score\", \"second_face_score\"]\n",
        "df = pd.DataFrame(index=range(0, instances), columns=columns)\n",
        "for i in mat:\n",
        "  if i == \"imdb\":\n",
        "    curr_array = mat[i][0][0]\n",
        "    print(len(curr_array))\n",
        "    for j in range(0, len(curr_array)-2): #imdb has 10 columns\n",
        "      df[columns[j]] = pd.DataFrame(curr_array[j][0])"
      ],
      "execution_count": 0,
      "outputs": [
        {
          "output_type": "stream",
          "text": [
            "10\n"
          ],
          "name": "stdout"
        }
      ]
    },
    {
      "cell_type": "code",
      "metadata": {
        "id": "b6Xw3AS3MQc-",
        "colab_type": "code",
        "colab": {}
      },
      "source": [
        "def cale_age(taken, dob):\n",
        "  \n",
        "  birth = datetime.fromordinal(max(int(dob) - 366,1))\n",
        "  \n",
        "  if birth.month < 7:\n",
        "    return taken - birth.year\n",
        "  else:\n",
        "    return taken - birth.year - 1\n",
        "\n",
        "df['age'] = [cale_age(df['photo_taken'][i], df['dob'][i]) for i in range(len(df['dob']))]"
      ],
      "execution_count": 0,
      "outputs": []
    },
    {
      "cell_type": "code",
      "metadata": {
        "id": "gK3JtCMkPzsD",
        "colab_type": "code",
        "colab": {}
      },
      "source": [
        "#clean data\n",
        "#remove no face picture\n",
        "df = df[df['face_score'] != -np.inf]\n",
        "#remove more faces in one picuture\n",
        "df = df[df['second_face_score'].isna()]\n",
        "#threshold more than 3\n",
        "df = df[df['face_score'] >= 3]\n",
        "#remove no gender\n",
        "df = df[df['gender'].isna()==False]\n",
        "#reomve unuse columns\n",
        "df = df.drop(columns=['name', 'face_score', 'second_face_score', 'face_location'])\n"
      ],
      "execution_count": 0,
      "outputs": []
    },
    {
      "cell_type": "code",
      "metadata": {
        "id": "g9_IYBzebCTB",
        "colab_type": "code",
        "outputId": "6f7d1a31-00ef-4ad3-afc7-5fb45946b506",
        "colab": {
          "base_uri": "https://localhost:8080/",
          "height": 34
        }
      },
      "source": [
        "df.head()"
      ],
      "execution_count": 0,
      "outputs": [
        {
          "output_type": "execute_result",
          "data": {
            "text/plain": [
              "(93411, 5)"
            ]
          },
          "metadata": {
            "tags": []
          },
          "execution_count": 28
        }
      ]
    },
    {
      "cell_type": "code",
      "metadata": {
        "id": "1dT7gJmLXBZF",
        "colab_type": "code",
        "colab": {}
      },
      "source": [
        "df = df[df['age']>0]\n",
        "df = df[df['age']<=100]"
      ],
      "execution_count": 0,
      "outputs": []
    },
    {
      "cell_type": "code",
      "metadata": {
        "id": "AiBuzZVbRolA",
        "colab_type": "code",
        "outputId": "187ca413-3988-4dc9-bd43-187cefcc4e2a",
        "colab": {
          "base_uri": "https://localhost:8080/",
          "height": 269
        }
      },
      "source": [
        "series = pd.Series(np.random.normal(size=2000))\n",
        "#check age distribution \n",
        "age_histo = df['age'].hist(bins=df['age'].nunique())"
      ],
      "execution_count": 0,
      "outputs": [
        {
          "output_type": "display_data",
          "data": {
            "image/png": "[encoded data removed]",
            "text/plain": [
              "<Figure size 432x288 with 1 Axes>"
            ]
          },
          "metadata": {
            "tags": []
          }
        }
      ]
    },
    {
      "cell_type": "code",
      "metadata": {
        "id": "fY1pSoPsUaLh",
        "colab_type": "code",
        "outputId": "c4f989e7-9b29-464f-9264-290b080f69a7",
        "colab": {
          "base_uri": "https://localhost:8080/",
          "height": 269
        }
      },
      "source": [
        "gender_histo = df['gender'].hist(bins=df['gender'].nunique())"
      ],
      "execution_count": 0,
      "outputs": [
        {
          "output_type": "display_data",
          "data": {
            "image/png": "[encoded data removed]",
            "text/plain": [
              "<Figure size 432x288 with 1 Axes>"
            ]
          },
          "metadata": {
            "tags": []
          }
        }
      ]
    },
    {
      "cell_type": "code",
      "metadata": {
        "id": "bHs0tw5x5D77",
        "colab_type": "code",
        "outputId": "507b8dce-698c-4ec4-96ce-e7bc4433c820",
        "colab": {
          "base_uri": "https://localhost:8080/",
          "height": 34
        }
      },
      "source": [
        "from keras.preprocessing import image"
      ],
      "execution_count": 0,
      "outputs": [
        {
          "output_type": "stream",
          "text": [
            "Using TensorFlow backend.\n"
          ],
          "name": "stderr"
        }
      ]
    },
    {
      "cell_type": "code",
      "metadata": {
        "id": "hWkfvs8tVZBA",
        "colab_type": "code",
        "colab": {}
      },
      "source": [
        "target_size = (224,224)\n",
        "#update to pixel value\n",
        "def getImagetoPixels(image_path):\n",
        "  image = cv2.imread('imdb_crop/{}'.format(image_path[0]), cv2.IMREAD_COLOR)\n",
        "  image = cv2.resize(image,target_size)\n",
        "  return image.reshape(1,-1)[0]"
      ],
      "execution_count": 0,
      "outputs": []
    },
    {
      "cell_type": "code",
      "metadata": {
        "id": "ZZ72LgerZQiJ",
        "colab_type": "code",
        "colab": {}
      },
      "source": [
        "# image = cv2.imread('./wiki_crop/00/10049200_1891-09-16_1958.jpg', cv2.IMREAD_COLOR)\n",
        "# image = cv2.resize(image,target_size)\n",
        "# image = getImagetoPixels(['00/10049200_1891-09-16_1958.jpg'])\n",
        "# image.reshape(1,-1)[0]\n",
        "df['pixels'] = df['full_path'].apply(getImagetoPixels)"
      ],
      "execution_count": 0,
      "outputs": []
    },
    {
      "cell_type": "markdown",
      "metadata": {
        "id": "GfwXan1gBdv2",
        "colab_type": "text"
      },
      "source": [
        "###UTKFace  (23,706)"
      ]
    },
    {
      "cell_type": "code",
      "metadata": {
        "id": "9LnF4728BkCV",
        "colab_type": "code",
        "colab": {}
      },
      "source": [
        "cp ./drive/'My Drive'/Test_DATA/UTKFace.zip ./"
      ],
      "execution_count": 0,
      "outputs": []
    },
    {
      "cell_type": "code",
      "metadata": {
        "id": "M1ZZeuLDBnxL",
        "colab_type": "code",
        "colab": {}
      },
      "source": [
        "!unzip UTKFace.zip"
      ],
      "execution_count": 0,
      "outputs": []
    },
    {
      "cell_type": "code",
      "metadata": {
        "id": "U_0iYL2YBpgl",
        "colab_type": "code",
        "colab": {}
      },
      "source": [
        "import os\n",
        "file_path = 'UTKFace/UTKFace'\n",
        "num_UTKFace = len(os.listdir(file_path))"
      ],
      "execution_count": 0,
      "outputs": []
    },
    {
      "cell_type": "code",
      "metadata": {
        "id": "Yyd0I79LDeTB",
        "colab_type": "code",
        "outputId": "dd1abf7b-17f7-4c6e-afa5-92650e2f16f1",
        "colab": {
          "base_uri": "https://localhost:8080/",
          "height": 34
        }
      },
      "source": [
        "print(os.listdir(file_path)[0])"
      ],
      "execution_count": 0,
      "outputs": [
        {
          "output_type": "stream",
          "text": [
            "8_1_0_20170109204910999.jpg.chip.jpg\n"
          ],
          "name": "stdout"
        }
      ]
    },
    {
      "cell_type": "code",
      "metadata": {
        "id": "l7DnoNyVC4kh",
        "colab_type": "code",
        "colab": {}
      },
      "source": [
        "df_utkface = pd.DataFrame(index=range(0, num_UTKFace), columns=['age', 'gender','filename'])"
      ],
      "execution_count": 0,
      "outputs": []
    },
    {
      "cell_type": "code",
      "metadata": {
        "id": "kVQciC-LD5ar",
        "colab_type": "code",
        "colab": {}
      },
      "source": [
        "age = []\n",
        "gender = []\n",
        "filename = []\n",
        "for i in range(0, num_UTKFace):\n",
        "  name = os.listdir(file_path)[i]\n",
        "  filename.append(name)\n",
        "  #content\n",
        "  list = name.split('_')\n",
        "  if(len(list) != 0):\n",
        "    age.append(int(list[0]))\n",
        "    gender.append(int(list[1]))"
      ],
      "execution_count": 0,
      "outputs": []
    },
    {
      "cell_type": "code",
      "metadata": {
        "id": "Ax_iFBjyHm2T",
        "colab_type": "code",
        "colab": {}
      },
      "source": [
        "df_utkface['age'] = pd.DataFrame(age)\n",
        "df_utkface['gender'] = pd.DataFrame(gender)\n",
        "df_utkface['filename'] = pd.DataFrame(filename)"
      ],
      "execution_count": 0,
      "outputs": []
    },
    {
      "cell_type": "code",
      "metadata": {
        "id": "oaKjWs94Fw3H",
        "colab_type": "code",
        "outputId": "af4fa78e-c1f8-4d22-da64-4fd503fb3f7c",
        "colab": {
          "base_uri": "https://localhost:8080/",
          "height": 195
        }
      },
      "source": [
        "df_utkface.head()"
      ],
      "execution_count": 0,
      "outputs": [
        {
          "output_type": "execute_result",
          "data": {
            "text/html": [
              "<div>\n",
              "<style scoped>\n",
              "    .dataframe tbody tr th:only-of-type {\n",
              "        vertical-align: middle;\n",
              "    }\n",
              "\n",
              "    .dataframe tbody tr th {\n",
              "        vertical-align: top;\n",
              "    }\n",
              "\n",
              "    .dataframe thead th {\n",
              "        text-align: right;\n",
              "    }\n",
              "</style>\n",
              "<table border=\"1\" class=\"dataframe\">\n",
              "  <thead>\n",
              "    <tr style=\"text-align: right;\">\n",
              "      <th></th>\n",
              "      <th>age</th>\n",
              "      <th>gender</th>\n",
              "      <th>filename</th>\n",
              "    </tr>\n",
              "  </thead>\n",
              "  <tbody>\n",
              "    <tr>\n",
              "      <th>0</th>\n",
              "      <td>8</td>\n",
              "      <td>1</td>\n",
              "      <td>8_1_0_20170109204910999.jpg.chip.jpg</td>\n",
              "    </tr>\n",
              "    <tr>\n",
              "      <th>1</th>\n",
              "      <td>21</td>\n",
              "      <td>0</td>\n",
              "      <td>21_0_2_20170116170638620.jpg.chip.jpg</td>\n",
              "    </tr>\n",
              "    <tr>\n",
              "      <th>2</th>\n",
              "      <td>21</td>\n",
              "      <td>0</td>\n",
              "      <td>21_0_2_20170116170907317.jpg.chip.jpg</td>\n",
              "    </tr>\n",
              "    <tr>\n",
              "      <th>3</th>\n",
              "      <td>26</td>\n",
              "      <td>1</td>\n",
              "      <td>26_1_3_20170119193112441.jpg.chip.jpg</td>\n",
              "    </tr>\n",
              "    <tr>\n",
              "      <th>4</th>\n",
              "      <td>30</td>\n",
              "      <td>1</td>\n",
              "      <td>30_1_1_20170117133936142.jpg.chip.jpg</td>\n",
              "    </tr>\n",
              "  </tbody>\n",
              "</table>\n",
              "</div>"
            ],
            "text/plain": [
              "   age  gender                               filename\n",
              "0    8       1   8_1_0_20170109204910999.jpg.chip.jpg\n",
              "1   21       0  21_0_2_20170116170638620.jpg.chip.jpg\n",
              "2   21       0  21_0_2_20170116170907317.jpg.chip.jpg\n",
              "3   26       1  26_1_3_20170119193112441.jpg.chip.jpg\n",
              "4   30       1  30_1_1_20170117133936142.jpg.chip.jpg"
            ]
          },
          "metadata": {
            "tags": []
          },
          "execution_count": 77
        }
      ]
    },
    {
      "cell_type": "code",
      "metadata": {
        "id": "imL0gtnSHzNo",
        "colab_type": "code",
        "colab": {}
      },
      "source": [
        "df_utkface = df_utkface[df_utkface['age']>0]\n",
        "df_utkface = df_utkface[df_utkface['age']<=100]"
      ],
      "execution_count": 0,
      "outputs": []
    },
    {
      "cell_type": "code",
      "metadata": {
        "id": "ho8JytLWZ0BD",
        "colab_type": "code",
        "colab": {}
      },
      "source": [
        "df_utkface.shape"
      ],
      "execution_count": 0,
      "outputs": []
    },
    {
      "cell_type": "code",
      "metadata": {
        "id": "K24xz2oAKR-x",
        "colab_type": "code",
        "outputId": "ed0afb03-dbe1-4f20-fcac-5db053fd00e1",
        "colab": {
          "base_uri": "https://localhost:8080/",
          "height": 269
        }
      },
      "source": [
        "utkface_age_hist = df_utkface['age'].hist(bins=df['age'].nunique())"
      ],
      "execution_count": 0,
      "outputs": [
        {
          "output_type": "display_data",
          "data": {
            "image/png": "[encoded data removed]",
            "text/plain": [
              "<Figure size 432x288 with 1 Axes>"
            ]
          },
          "metadata": {
            "tags": []
          }
        }
      ]
    },
    {
      "cell_type": "code",
      "metadata": {
        "id": "FyR6KQCCZqrC",
        "colab_type": "code",
        "outputId": "f1db5f58-62bd-49a6-8c83-60fc50a562b9",
        "colab": {
          "base_uri": "https://localhost:8080/",
          "height": 269
        }
      },
      "source": [
        "gender_hist = df_utkface['gender'].hist(bins=df['gender'].nunique())"
      ],
      "execution_count": 0,
      "outputs": [
        {
          "output_type": "display_data",
          "data": {
            "image/png": "[encoded data removed]",
            "text/plain": [
              "<Figure size 432x288 with 1 Axes>"
            ]
          },
          "metadata": {
            "tags": []
          }
        }
      ]
    },
    {
      "cell_type": "markdown",
      "metadata": {
        "id": "j71RE1cfW19m",
        "colab_type": "text"
      },
      "source": [
        "###CACD2000  -- no gender labels  (163,446)"
      ]
    },
    {
      "cell_type": "code",
      "metadata": {
        "id": "YWn3jn1tXU4X",
        "colab_type": "code",
        "colab": {}
      },
      "source": [
        "cp -r ./drive/'My Drive'/Test_DATA/training_CACD_align.zip ./"
      ],
      "execution_count": 0,
      "outputs": []
    },
    {
      "cell_type": "code",
      "metadata": {
        "id": "r3Gsk9KeSEOs",
        "colab_type": "code",
        "colab": {}
      },
      "source": [
        "from google.colab import drive\n",
        "drive.mount('/content/drive')"
      ],
      "execution_count": 0,
      "outputs": []
    },
    {
      "cell_type": "code",
      "metadata": {
        "id": "tk98xgtFaKqI",
        "colab_type": "code",
        "colab": {}
      },
      "source": [
        "!unzip training_CACD_align.zip -d ./"
      ],
      "execution_count": 0,
      "outputs": []
    },
    {
      "cell_type": "code",
      "metadata": {
        "id": "XZoSi2XMbIJk",
        "colab_type": "code",
        "outputId": "168e500c-845e-4398-8a32-5a18d321c796",
        "colab": {
          "base_uri": "https://localhost:8080/",
          "height": 34
        }
      },
      "source": [
        "import os\n",
        "file_path = 'training_CACD_align'\n",
        "num_CACD = len(os.listdir(file_path))\n",
        "num_CACD"
      ],
      "execution_count": 0,
      "outputs": [
        {
          "output_type": "execute_result",
          "data": {
            "text/plain": [
              "160285"
            ]
          },
          "metadata": {
            "tags": []
          },
          "execution_count": 4
        }
      ]
    },
    {
      "cell_type": "code",
      "metadata": {
        "id": "wEkCevMHbcd1",
        "colab_type": "code",
        "outputId": "2f0399d6-cfdd-4487-fd3f-9905d18dec5d",
        "colab": {
          "base_uri": "https://localhost:8080/",
          "height": 34
        }
      },
      "source": [
        "os.listdir(file_path)[0]"
      ],
      "execution_count": 0,
      "outputs": [
        {
          "output_type": "execute_result",
          "data": {
            "text/plain": [
              "'53_Sam_J._Jones_0015.jpg'"
            ]
          },
          "metadata": {
            "tags": []
          },
          "execution_count": 9
        }
      ]
    },
    {
      "cell_type": "code",
      "metadata": {
        "id": "C6vqD8bgbSL2",
        "colab_type": "code",
        "colab": {}
      },
      "source": [
        "import pandas as pd\n",
        "df_cacd = pd.DataFrame(index=range(0, num_CACD), columns=['age','filename'])"
      ],
      "execution_count": 0,
      "outputs": []
    },
    {
      "cell_type": "code",
      "metadata": {
        "id": "FKB8oWEJbvVi",
        "colab_type": "code",
        "colab": {}
      },
      "source": [
        "age = []\n",
        "filename = []\n",
        "for i in range(0, num_CACD):\n",
        "  name = os.listdir(file_path)[i]\n",
        "  filename.append(name)\n",
        "  #content\n",
        "  list = name.split('_')\n",
        "  if(len(list) != 0):\n",
        "    age.append(int(list[0]))\n",
        "  if i%1000==0:\n",
        "    print(len(age))"
      ],
      "execution_count": 0,
      "outputs": []
    },
    {
      "cell_type": "code",
      "metadata": {
        "id": "ZbTAQdJA9y76",
        "colab_type": "code",
        "colab": {
          "base_uri": "https://localhost:8080/",
          "height": 34
        },
        "outputId": "d392d43c-c907-43da-957b-2526ac7c1fba"
      },
      "source": [
        "len(age)"
      ],
      "execution_count": 7,
      "outputs": [
        {
          "output_type": "execute_result",
          "data": {
            "text/plain": [
              "160285"
            ]
          },
          "metadata": {
            "tags": []
          },
          "execution_count": 7
        }
      ]
    },
    {
      "cell_type": "code",
      "metadata": {
        "id": "2hXsSZ9ib3nm",
        "colab_type": "code",
        "colab": {}
      },
      "source": [
        "df_cacd['age'] = pd.DataFrame(age)\n",
        "df_cacd['filename'] = pd.DataFrame(filename)"
      ],
      "execution_count": 0,
      "outputs": []
    },
    {
      "cell_type": "code",
      "metadata": {
        "id": "SrJzZD75cyQP",
        "colab_type": "code",
        "colab": {}
      },
      "source": [
        "df_cacd = df_cacd[df_cacd['age']>0]\n",
        "df_cacd = df_cacd[df_cacd['age']<=100]"
      ],
      "execution_count": 0,
      "outputs": []
    },
    {
      "cell_type": "code",
      "metadata": {
        "id": "5CDJ8oxub8Dx",
        "colab_type": "code",
        "colab": {
          "base_uri": "https://localhost:8080/",
          "height": 195
        },
        "outputId": "07d0d5a9-4914-4053-f1dc-4b73340d536b"
      },
      "source": [
        "df_cacd.head()"
      ],
      "execution_count": 10,
      "outputs": [
        {
          "output_type": "execute_result",
          "data": {
            "text/html": [
              "<div>\n",
              "<style scoped>\n",
              "    .dataframe tbody tr th:only-of-type {\n",
              "        vertical-align: middle;\n",
              "    }\n",
              "\n",
              "    .dataframe tbody tr th {\n",
              "        vertical-align: top;\n",
              "    }\n",
              "\n",
              "    .dataframe thead th {\n",
              "        text-align: right;\n",
              "    }\n",
              "</style>\n",
              "<table border=\"1\" class=\"dataframe\">\n",
              "  <thead>\n",
              "    <tr style=\"text-align: right;\">\n",
              "      <th></th>\n",
              "      <th>age</th>\n",
              "      <th>filename</th>\n",
              "    </tr>\n",
              "  </thead>\n",
              "  <tbody>\n",
              "    <tr>\n",
              "      <th>0</th>\n",
              "      <td>21</td>\n",
              "      <td>21_Freida_Pinto_0016.jpg</td>\n",
              "    </tr>\n",
              "    <tr>\n",
              "      <th>1</th>\n",
              "      <td>47</td>\n",
              "      <td>47_Viola_Davis_0003.jpg</td>\n",
              "    </tr>\n",
              "    <tr>\n",
              "      <th>2</th>\n",
              "      <td>26</td>\n",
              "      <td>26_Emily_Blunt_0009.jpg</td>\n",
              "    </tr>\n",
              "    <tr>\n",
              "      <th>3</th>\n",
              "      <td>37</td>\n",
              "      <td>37_Tiffani_Thiessen_0011.jpg</td>\n",
              "    </tr>\n",
              "    <tr>\n",
              "      <th>4</th>\n",
              "      <td>55</td>\n",
              "      <td>55_David_Hasselhoff_0008.jpg</td>\n",
              "    </tr>\n",
              "  </tbody>\n",
              "</table>\n",
              "</div>"
            ],
            "text/plain": [
              "   age                      filename\n",
              "0   21      21_Freida_Pinto_0016.jpg\n",
              "1   47       47_Viola_Davis_0003.jpg\n",
              "2   26       26_Emily_Blunt_0009.jpg\n",
              "3   37  37_Tiffani_Thiessen_0011.jpg\n",
              "4   55  55_David_Hasselhoff_0008.jpg"
            ]
          },
          "metadata": {
            "tags": []
          },
          "execution_count": 10
        }
      ]
    },
    {
      "cell_type": "code",
      "metadata": {
        "id": "vZrsHpV7c7Cb",
        "colab_type": "code",
        "colab": {
          "base_uri": "https://localhost:8080/",
          "height": 269
        },
        "outputId": "ad5bdf2a-feca-45ad-a4f5-522c2e9bfd6c"
      },
      "source": [
        "cacd_gender_hist = df_cacd['age'].hist(bins=df_cacd['age'].nunique())"
      ],
      "execution_count": 11,
      "outputs": [
        {
          "output_type": "display_data",
          "data": {
            "image/png": "[encoded data removed]",
            "text/plain": [
              "<Figure size 432x288 with 1 Axes>"
            ]
          },
          "metadata": {
            "tags": []
          }
        }
      ]
    }
  ]
}